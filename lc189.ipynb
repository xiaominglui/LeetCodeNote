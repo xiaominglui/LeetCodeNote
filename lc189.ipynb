{
 "cells": [
  {
   "cell_type": "markdown",
   "id": "1a284667-dcb9-4d37-9632-09c105537dc9",
   "metadata": {},
   "source": [
    "题目要求原地修改"
   ]
  },
  {
   "cell_type": "code",
   "execution_count": null,
   "id": "0c549d4c-06bd-46c2-8f75-9e59eaa54682",
   "metadata": {},
   "outputs": [],
   "source": [
    "from typing import List"
   ]
  },
  {
   "cell_type": "code",
   "execution_count": 69,
   "id": "f45bc043-112e-44f8-8c41-43266926620e",
   "metadata": {},
   "outputs": [],
   "source": [
    "def rotate(nums: List[int], k: int) -> None:\n",
    "    l = len(nums) - 1\n",
    "    t = []\n",
    "    for i in range(k):\n",
    "        print(f'======i={i}')\n",
    "        t.append(nums[l - k + 1 + i])\n",
    "        \n",
    "    while (l >= 0):\n",
    "        print(f'======l={l}')\n",
    "        if (l - k) >= 0:\n",
    "            nums[l] = nums[l - k]\n",
    "        else:\n",
    "            print(f'======l={l}---t[{l - k + len(nums) - k - 1}]')\n",
    "            nums[l] = t[l - k + len(nums) - k - 1]\n",
    "        l = l - 1\n",
    "        \n",
    "    return nums\n",
    "        \n",
    "        "
   ]
  },
  {
   "cell_type": "code",
   "execution_count": 72,
   "id": "d3bf6959-3d30-436a-827e-f6d038caa7c8",
   "metadata": {},
   "outputs": [],
   "source": [
    "n = [-1, -100, 3, 99]"
   ]
  },
  {
   "cell_type": "code",
   "execution_count": 74,
   "id": "16ae7138-716d-476f-8bbd-a5dd8d9732c9",
   "metadata": {},
   "outputs": [
    {
     "name": "stdout",
     "output_type": "stream",
     "text": [
      "======i=0\n",
      "======i=1\n",
      "======l=3\n",
      "======l=2\n",
      "======l=1\n",
      "======l=1---t[0]\n",
      "======l=0\n",
      "======l=0---t[-1]\n"
     ]
    },
    {
     "data": {
      "text/plain": [
       "[-1, 99, -100, 3]"
      ]
     },
     "execution_count": 74,
     "metadata": {},
     "output_type": "execute_result"
    }
   ],
   "source": [
    "rotate(n, 2)"
   ]
  },
  {
   "cell_type": "markdown",
   "id": "101c36af-492c-4680-8bd9-e07776dec6b6",
   "metadata": {},
   "source": [
    "整理思路，重新开始"
   ]
  },
  {
   "cell_type": "code",
   "execution_count": 112,
   "id": "d3452b7b-b5ce-4feb-a99e-e0eb1f0dc159",
   "metadata": {},
   "outputs": [],
   "source": [
    "def rotateRight(nums: List[int], k: int) -> None:\n",
    "    # bak first k items\n",
    "    n = len(nums)\n",
    "    bak = []\n",
    "    for i in range(n):\n",
    "        print(f'bak---{i}')\n",
    "        bak.append(nums[i])\n",
    "        \n",
    "    \n",
    "    for j in range(n):\n",
    "        t = (j + n - k) % n\n",
    "        \n",
    "        print(f'j{j}=bak{t} from origin')\n",
    "        nums[j] = bak[t]\n",
    "            \n",
    "            \n",
    "    return nums\n",
    "        \n",
    "        \n",
    "    "
   ]
  },
  {
   "cell_type": "code",
   "execution_count": 113,
   "id": "1473c8d9-ef91-43e7-a9c0-bedd9de926f6",
   "metadata": {},
   "outputs": [],
   "source": [
    "nn = [1, 2, 3, 4, 5, 6, 7]"
   ]
  },
  {
   "cell_type": "code",
   "execution_count": 114,
   "id": "5a19b781-a087-46d0-83e8-bfbb7a94d3c6",
   "metadata": {},
   "outputs": [
    {
     "name": "stdout",
     "output_type": "stream",
     "text": [
      "bak---0\n",
      "bak---1\n",
      "bak---2\n",
      "bak---3\n",
      "bak---4\n",
      "bak---5\n",
      "bak---6\n",
      "j0=bak4 from origin\n",
      "j1=bak5 from origin\n",
      "j2=bak6 from origin\n",
      "j3=bak0 from origin\n",
      "j4=bak1 from origin\n",
      "j5=bak2 from origin\n",
      "j6=bak3 from origin\n"
     ]
    },
    {
     "data": {
      "text/plain": [
       "[5, 6, 7, 1, 2, 3, 4]"
      ]
     },
     "execution_count": 114,
     "metadata": {},
     "output_type": "execute_result"
    }
   ],
   "source": [
    "rotateRight(nn, 3)"
   ]
  },
  {
   "cell_type": "markdown",
   "id": "21a1bea1-56c9-44b7-9b7a-49ecb7519f14",
   "metadata": {},
   "source": [
    "需要备份的数目应该与k和len相关\n",
    "遍历后被更改，后面会用到的？\n",
    "关系似乎不明朗，考虑全备份，待验证"
   ]
  },
  {
   "cell_type": "markdown",
   "id": "9458cbd5-d461-4d9f-97d0-2ef6e733e030",
   "metadata": {},
   "source": [
    "重要通过了，☺️"
   ]
  }
 ],
 "metadata": {
  "kernelspec": {
   "display_name": "Python 3 (ipykernel)",
   "language": "python",
   "name": "python3"
  },
  "language_info": {
   "codemirror_mode": {
    "name": "ipython",
    "version": 3
   },
   "file_extension": ".py",
   "mimetype": "text/x-python",
   "name": "python",
   "nbconvert_exporter": "python",
   "pygments_lexer": "ipython3",
   "version": "3.8.9"
  }
 },
 "nbformat": 4,
 "nbformat_minor": 5
}
