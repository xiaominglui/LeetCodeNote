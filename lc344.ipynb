{
 "cells": [
  {
   "cell_type": "markdown",
   "id": "b276d1c7-e0bd-4342-8695-d2edd441e639",
   "metadata": {},
   "source": [
    "# 反转字符串"
   ]
  },
  {
   "cell_type": "code",
   "execution_count": 34,
   "id": "cc0b820f-c60b-4669-b668-08c9490d7309",
   "metadata": {},
   "outputs": [],
   "source": [
    "from typing import List\n",
    "def reverseString(s: List[str]) -> None:\n",
    "    t = ''\n",
    "    \n",
    "    loop = len(s) // 2\n",
    "    for i in range(loop):\n",
    "        t = s[i]\n",
    "        s[i] = s[len(s) - i - 1]\n",
    "        s[len(s) - i - 1] = t\n",
    "        \n",
    "    return s"
   ]
  },
  {
   "cell_type": "code",
   "execution_count": 35,
   "id": "1e65d48a-109d-4522-9b2b-9b9d8ea66396",
   "metadata": {},
   "outputs": [],
   "source": [
    "s = [\"h\", \"e\", \"l\", \"l\", \"o\"]"
   ]
  },
  {
   "cell_type": "code",
   "execution_count": 36,
   "id": "53e8a7e2-8ec2-4cdc-888c-99fac8a7b684",
   "metadata": {},
   "outputs": [
    {
     "data": {
      "text/plain": [
       "['o', 'l', 'l', 'e', 'h']"
      ]
     },
     "execution_count": 36,
     "metadata": {},
     "output_type": "execute_result"
    }
   ],
   "source": [
    "reverseString(s)"
   ]
  },
  {
   "cell_type": "code",
   "execution_count": 37,
   "id": "728372b6-b186-4544-a2d0-addee5b3de98",
   "metadata": {},
   "outputs": [],
   "source": [
    "ss = [\"b\", \"i\", \"k\", \"e\"]"
   ]
  },
  {
   "cell_type": "code",
   "execution_count": 38,
   "id": "8a828ddd-7d43-4f7e-8b63-e11b8e3031e0",
   "metadata": {},
   "outputs": [
    {
     "data": {
      "text/plain": [
       "['e', 'k', 'i', 'b']"
      ]
     },
     "execution_count": 38,
     "metadata": {},
     "output_type": "execute_result"
    }
   ],
   "source": [
    "reverseString(ss)"
   ]
  },
  {
   "cell_type": "code",
   "execution_count": null,
   "id": "6437c896-8b1e-424a-8147-79fbc273b21e",
   "metadata": {},
   "outputs": [],
   "source": []
  }
 ],
 "metadata": {
  "kernelspec": {
   "display_name": "Python 3 (ipykernel)",
   "language": "python",
   "name": "python3"
  },
  "language_info": {
   "codemirror_mode": {
    "name": "ipython",
    "version": 3
   },
   "file_extension": ".py",
   "mimetype": "text/x-python",
   "name": "python",
   "nbconvert_exporter": "python",
   "pygments_lexer": "ipython3",
   "version": "3.8.9"
  }
 },
 "nbformat": 4,
 "nbformat_minor": 5
}
