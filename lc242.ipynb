{
 "cells": [
  {
   "cell_type": "markdown",
   "id": "8b88c19c-f9e3-47dd-8f99-62da0090dc38",
   "metadata": {},
   "source": [
    "题目：有效的字母异位词"
   ]
  },
  {
   "cell_type": "markdown",
   "id": "a8fe4dec-05c6-4bba-b678-39ea6f575baf",
   "metadata": {},
   "source": [
    "输入：两个字符串`s`和`t`"
   ]
  },
  {
   "cell_type": "markdown",
   "id": "4c10144b-599d-411d-af55-1cbf1381f238",
   "metadata": {},
   "source": [
    "输出：是否是字母异位词"
   ]
  },
  {
   "cell_type": "markdown",
   "id": "8b237ea1-7f12-4fce-ae21-e16d5052bdce",
   "metadata": {},
   "source": [
    "定义：若`s`和`t`中每个字符出现的次数相同，则称`s`和`t`互为字母异位词。"
   ]
  },
  {
   "cell_type": "code",
   "execution_count": 7,
   "id": "56c96b15-2db3-4466-91c1-80d97d1b83a9",
   "metadata": {},
   "outputs": [],
   "source": [
    "def isAnagram(s: str, t: str) -> bool:\n",
    "    sl = len(s)\n",
    "    sm = {s[x]: 0 for x in range(sl)}\n",
    "    \n",
    "    tl = len(t)\n",
    "    tm = {t[x]: 0 for x in range(tl)}\n",
    "    for i in range(sl):\n",
    "        k = s[i]\n",
    "        sm[k] += 1\n",
    "    for i in range(tl):\n",
    "        k = t[i]\n",
    "        tm[k] += 1\n",
    "        \n",
    "    if len(sm) != len(tm):\n",
    "        return False\n",
    "    else:\n",
    "        return sm == tm"
   ]
  },
  {
   "cell_type": "code",
   "execution_count": 8,
   "id": "1a5b07cf-a6e6-4376-8d51-ec798b5c6e7b",
   "metadata": {},
   "outputs": [],
   "source": [
    "s = \"anagram\"\n",
    "t = \"nagaram\""
   ]
  },
  {
   "cell_type": "code",
   "execution_count": 9,
   "id": "0673c032-79bb-4160-ba7f-f3214a2bed35",
   "metadata": {},
   "outputs": [
    {
     "data": {
      "text/plain": [
       "True"
      ]
     },
     "execution_count": 9,
     "metadata": {},
     "output_type": "execute_result"
    }
   ],
   "source": [
    "isAnagram(s, t)"
   ]
  },
  {
   "cell_type": "code",
   "execution_count": 10,
   "id": "df0fe39a-02fa-4b10-b2eb-c70105809c4c",
   "metadata": {},
   "outputs": [],
   "source": [
    "s = \"a\"\n",
    "t = \"ab\""
   ]
  },
  {
   "cell_type": "code",
   "execution_count": 11,
   "id": "2db830e5-7e3b-44ed-a1d7-6116410be514",
   "metadata": {},
   "outputs": [
    {
     "data": {
      "text/plain": [
       "False"
      ]
     },
     "execution_count": 11,
     "metadata": {},
     "output_type": "execute_result"
    }
   ],
   "source": [
    "isAnagram(s, t)"
   ]
  },
  {
   "cell_type": "code",
   "execution_count": null,
   "id": "63daf21e-ab64-4d58-9b36-4374fa973489",
   "metadata": {},
   "outputs": [],
   "source": []
  }
 ],
 "metadata": {
  "kernelspec": {
   "display_name": "Python 3 (ipykernel)",
   "language": "python",
   "name": "python3"
  },
  "language_info": {
   "codemirror_mode": {
    "name": "ipython",
    "version": 3
   },
   "file_extension": ".py",
   "mimetype": "text/x-python",
   "name": "python",
   "nbconvert_exporter": "python",
   "pygments_lexer": "ipython3",
   "version": "3.8.9"
  }
 },
 "nbformat": 4,
 "nbformat_minor": 5
}
