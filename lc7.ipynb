{
 "cells": [
  {
   "cell_type": "code",
   "execution_count": 118,
   "id": "db5090af-2093-44dd-abbc-6c5c7bf79980",
   "metadata": {},
   "outputs": [],
   "source": [
    "def reverse(x: int) -> int:\n",
    "    if x == 0:\n",
    "        return 0\n",
    "    elif x > 0:\n",
    "        s = list(str(x))\n",
    "        t = ''\n",
    "        loop = len(s) // 2\n",
    "        for i in range(loop):\n",
    "            t = s[i]\n",
    "            s[i] = s[len(s) - i - 1]\n",
    "            s[len(s) - i - 1] = t\n",
    "        rs = ''.join(s)\n",
    "        r = int(rs)\n",
    "        if r <= 2 ** 31 - 1:\n",
    "            return r\n",
    "        else:\n",
    "            return 0\n",
    "    else:\n",
    "        s = list(str(x))\n",
    "        t = ''\n",
    "        loop = (len(s) - 1) // 2\n",
    "        for i in range(loop):\n",
    "            t = s[i+1]\n",
    "            s[i+1] = s[len(s) - i - 1]\n",
    "            s[len(s) - i - 1] = t\n",
    "        rs = ''.join(s)\n",
    "        r = int(rs)\n",
    "        if r >= -(2 ** 31):\n",
    "            return r\n",
    "        else:\n",
    "            return 0"
   ]
  },
  {
   "cell_type": "code",
   "execution_count": 119,
   "id": "0815e0aa-ae5c-4851-8b54-baa73f2d4b96",
   "metadata": {},
   "outputs": [],
   "source": [
    "x = -123"
   ]
  },
  {
   "cell_type": "code",
   "execution_count": 120,
   "id": "91524e95-51a0-458c-8200-a0a0e13d3e03",
   "metadata": {},
   "outputs": [
    {
     "data": {
      "text/plain": [
       "-321"
      ]
     },
     "execution_count": 120,
     "metadata": {},
     "output_type": "execute_result"
    }
   ],
   "source": [
    "reverse(x)"
   ]
  },
  {
   "cell_type": "code",
   "execution_count": null,
   "id": "686e0724-01e7-497c-9504-81b3ccdc5881",
   "metadata": {},
   "outputs": [],
   "source": []
  },
  {
   "cell_type": "markdown",
   "id": "bf20d3e9-af57-4ee7-a5d4-68f117b21433",
   "metadata": {},
   "source": [
    "Pass🆗️"
   ]
  }
 ],
 "metadata": {
  "kernelspec": {
   "display_name": "Python 3 (ipykernel)",
   "language": "python",
   "name": "python3"
  },
  "language_info": {
   "codemirror_mode": {
    "name": "ipython",
    "version": 3
   },
   "file_extension": ".py",
   "mimetype": "text/x-python",
   "name": "python",
   "nbconvert_exporter": "python",
   "pygments_lexer": "ipython3",
   "version": "3.8.9"
  }
 },
 "nbformat": 4,
 "nbformat_minor": 5
}
