{
 "cells": [
  {
   "cell_type": "code",
   "execution_count": 33,
   "id": "9d694980-14a9-46d2-910d-7dceeb3632eb",
   "metadata": {},
   "outputs": [],
   "source": [
    "from typing import List\n",
    "def containsDuplicate(nums: List[int]) -> bool:\n",
    "    result = False\n",
    "    for i in range(len(nums)):\n",
    "        print(f'nums[{i}]')\n",
    "        for j in range(1, len(nums)-i):\n",
    "            if nums[i] == nums[i + j]:\n",
    "                result = True\n",
    "\n",
    "            \n",
    "        \n",
    "    return result"
   ]
  },
  {
   "cell_type": "code",
   "execution_count": 46,
   "id": "da509534-c27a-42c1-8e43-146a6d473755",
   "metadata": {},
   "outputs": [],
   "source": [
    "n = [1, 2, 3, 1]"
   ]
  },
  {
   "cell_type": "code",
   "execution_count": 47,
   "id": "3d649dc0-2757-474c-beb8-d5a07dd11555",
   "metadata": {},
   "outputs": [
    {
     "name": "stdout",
     "output_type": "stream",
     "text": [
      "nums[0]\n",
      "nums[1]\n",
      "nums[2]\n",
      "nums[3]\n"
     ]
    },
    {
     "data": {
      "text/plain": [
       "True"
      ]
     },
     "execution_count": 47,
     "metadata": {},
     "output_type": "execute_result"
    }
   ],
   "source": [
    "containsDuplicate(n)"
   ]
  },
  {
   "cell_type": "markdown",
   "id": "6dc84631-9440-4258-91fc-9e52992a1271",
   "metadata": {},
   "source": [
    "果然超出时间限制"
   ]
  },
  {
   "cell_type": "code",
   "execution_count": 43,
   "id": "8cb4bec8-7608-4f0a-b351-c7b912bbac6a",
   "metadata": {},
   "outputs": [],
   "source": [
    "def containsDuplicatePro(nums: List[int]) -> bool:\n",
    "    fast = 1\n",
    "    slow = 1\n",
    "    while (fast < len(nums)):\n",
    "        print(f'fast={fast}')\n",
    "        if nums[fast] != nums[fast - 1]:\n",
    "            slow = slow + 1\n",
    "        fast = fast + 1\n",
    "        \n",
    "    return fast != slow"
   ]
  },
  {
   "cell_type": "code",
   "execution_count": 44,
   "id": "ff15f837-5a93-42c0-8681-81459025e5c8",
   "metadata": {},
   "outputs": [],
   "source": [
    "nn = [1, 2, 3, 1]"
   ]
  },
  {
   "cell_type": "code",
   "execution_count": 45,
   "id": "d59c4ac0-7c49-4fe2-a7dc-ef057170e6b2",
   "metadata": {},
   "outputs": [
    {
     "name": "stdout",
     "output_type": "stream",
     "text": [
      "fast=1\n",
      "fast=2\n",
      "fast=3\n"
     ]
    },
    {
     "data": {
      "text/plain": [
       "False"
      ]
     },
     "execution_count": 45,
     "metadata": {},
     "output_type": "execute_result"
    }
   ],
   "source": [
    "containsDuplicatePro(nn)"
   ]
  },
  {
   "cell_type": "markdown",
   "id": "42e51c66-a627-44f0-b1a1-cb2a72a05607",
   "metadata": {},
   "source": [
    "了解了其他伙伴的讨论后，主要有以下几种思路：\n",
    "+ 先排序，再相邻比较，时间复杂度O(n+n)=O(n)\n",
    "+ 借助Set\n",
    "+ Hash？这种暂时还存疑"
   ]
  },
  {
   "cell_type": "code",
   "execution_count": 57,
   "id": "5ba5dfa1-ae7b-4cf4-bc9b-0431a095a586",
   "metadata": {},
   "outputs": [],
   "source": [
    "def containsDuplicateProMax(nums: List[int]) -> bool:\n",
    "    return len(nums) != len(set(nums))"
   ]
  },
  {
   "cell_type": "code",
   "execution_count": 58,
   "id": "b4a55403-777b-4eb2-9368-4822c8939e21",
   "metadata": {},
   "outputs": [],
   "source": [
    "nnn = [1, 2, 3, 1]"
   ]
  },
  {
   "cell_type": "code",
   "execution_count": 59,
   "id": "95a19bc0-67f8-45c6-ad73-6c15e0c43fa0",
   "metadata": {},
   "outputs": [
    {
     "data": {
      "text/plain": [
       "True"
      ]
     },
     "execution_count": 59,
     "metadata": {},
     "output_type": "execute_result"
    }
   ],
   "source": [
    "containsDuplicateProMax(nnn)"
   ]
  },
  {
   "cell_type": "code",
   "execution_count": null,
   "id": "9ad7fa78-a4be-480d-bd1c-417143470ffa",
   "metadata": {},
   "outputs": [],
   "source": []
  }
 ],
 "metadata": {
  "kernelspec": {
   "display_name": "Python 3 (ipykernel)",
   "language": "python",
   "name": "python3"
  },
  "language_info": {
   "codemirror_mode": {
    "name": "ipython",
    "version": 3
   },
   "file_extension": ".py",
   "mimetype": "text/x-python",
   "name": "python",
   "nbconvert_exporter": "python",
   "pygments_lexer": "ipython3",
   "version": "3.8.9"
  }
 },
 "nbformat": 4,
 "nbformat_minor": 5
}
