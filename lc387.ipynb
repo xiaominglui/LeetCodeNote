{
 "cells": [
  {
   "cell_type": "markdown",
   "id": "f4abed36-b15b-4cea-a759-c70ac6cc0d68",
   "metadata": {},
   "source": [
    "暴力方法时间复杂度不会达标，继续思考"
   ]
  },
  {
   "cell_type": "markdown",
   "id": "21f74459-ce68-4494-b487-fb17e0322677",
   "metadata": {},
   "source": [
    "题目信息：\n",
    "输入：一个字符串\n",
    "输出：返回第一个不重复字符的索引；若不存在返回-1"
   ]
  },
  {
   "cell_type": "code",
   "execution_count": null,
   "id": "ad60323a-5ac9-4c5d-ab58-1ccaea91a20e",
   "metadata": {},
   "outputs": [],
   "source": [
    "先遍历建立一个map<char, times>记录各字符出现次数，时间复杂度n；\n",
    "再遍历一遍，遇到第一个次数为1的，则返回结果"
   ]
  },
  {
   "cell_type": "code",
   "execution_count": 17,
   "id": "a4f007ae-77d4-4577-b98f-006122a8a001",
   "metadata": {},
   "outputs": [],
   "source": [
    "def firstUniqChar(s: str) -> int:\n",
    "    l = len(s)\n",
    "    r = {s[x]: 0 for x in range(l)}\n",
    "    for i in range(l):\n",
    "        k = s[i]\n",
    "        r[k] += 1\n",
    "    for j in range(l):\n",
    "        k = s[j]\n",
    "        if r[k] == 1:\n",
    "            return j\n",
    "    return -1\n",
    "    # for i, v in enumerate(r):\n",
    "    #    print(f'i={i}, [{v}, {r[v]}]')\n",
    "    "
   ]
  },
  {
   "cell_type": "code",
   "execution_count": 20,
   "id": "5f695203-5afb-4335-8301-1ab9fe18a2c3",
   "metadata": {},
   "outputs": [
    {
     "data": {
      "text/plain": [
       "-1"
      ]
     },
     "execution_count": 20,
     "metadata": {},
     "output_type": "execute_result"
    }
   ],
   "source": [
    "firstUniqChar(\"eettcc\")"
   ]
  },
  {
   "cell_type": "code",
   "execution_count": null,
   "id": "5e993571-6596-490c-8518-e36eb185de10",
   "metadata": {},
   "outputs": [],
   "source": []
  }
 ],
 "metadata": {
  "kernelspec": {
   "display_name": "Python 3 (ipykernel)",
   "language": "python",
   "name": "python3"
  },
  "language_info": {
   "codemirror_mode": {
    "name": "ipython",
    "version": 3
   },
   "file_extension": ".py",
   "mimetype": "text/x-python",
   "name": "python",
   "nbconvert_exporter": "python",
   "pygments_lexer": "ipython3",
   "version": "3.8.9"
  }
 },
 "nbformat": 4,
 "nbformat_minor": 5
}
